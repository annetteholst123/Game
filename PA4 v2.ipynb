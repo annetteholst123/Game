{
 "cells": [
  {
   "cell_type": "code",
   "execution_count": 37,
   "id": "b8f4e707-9d0c-448c-a93a-b0fb3f5f6ed6",
   "metadata": {},
   "outputs": [],
   "source": [
    "from Library import Book, Member, Loan"
   ]
  },
  {
   "cell_type": "code",
   "execution_count": null,
   "id": "286cd484-1631-41cb-8b74-275ae855fb77",
   "metadata": {},
   "outputs": [
    {
     "name": "stdout",
     "output_type": "stream",
     "text": [
      "-------------------------------------------------\n",
      "Welcome to the Library Management System!\n",
      "-------------------------------------------------\n",
      "Please choose an option: \n",
      "1. Add Book \n",
      "2. View Total Books In Library \n",
      "3. View Book \n",
      "4. Add Member \n",
      "5. View Members \n",
      "6. Borrow Book \n",
      "7. Return Book \n",
      "8. View Loans \n",
      "9. View Fines \n",
      "10. View log files \n",
      "11. Exit7\n",
      "Enter Member ID: 453645\n",
      "Enter Book Title: 432423\n",
      "Enter Book Author: 32423\n",
      "Oops! Something went wrong. The following error occured: name 'Loan' is not defined\n",
      "-------------------------------------------------\n",
      "Welcome to the Library Management System!\n",
      "-------------------------------------------------\n"
     ]
    }
   ],
   "source": [
    "if __name__ == \"__main__\":\n",
    "    while (True):\n",
    "        try:\n",
    "            print(\"-------------------------------------------------\")\n",
    "            print(\"Welcome to the Library Management System!\")\n",
    "            print(\"-------------------------------------------------\")\n",
    "            choose_option = int(input(\"Please choose an option: \\n1. Add Book \\n2. View Total Books In Library \\n3. View Book \\n4. Add Member \\n5. View Members \\n6. Borrow Book \\n7. Return Book \\n8. View Loans \\n9. View Fines \\n10. View log files \\n11. Exit\"))\n",
    "            if choose_option == 1:\n",
    "                book = Book()\n",
    "                Book.Add_Book(book)\n",
    "            elif choose_option == 2:\n",
    "                Book.Total_Books()\n",
    "            elif choose_option == 3:\n",
    "                book = Book()\n",
    "                Book.Number_Copies(book)\n",
    "            elif choose_option == 4:\n",
    "                member = Member()\n",
    "                Member.Add_Member(member)\n",
    "            elif choose_option == 5:\n",
    "                Member.View_Members()\n",
    "            elif choose_option == 6:\n",
    "                member_id = input(\"Enter Member ID: \")\n",
    "                title = input(\"Enter Book Title: \")\n",
    "                author = input(\"Enter Book Author: \")\n",
    "                loan = Loan(member_id, title, author)\n",
    "                loan.borrow_book()\n",
    "            elif choose_option == 7:\n",
    "                member_id = input(\"Enter Member ID: \")\n",
    "                title = input(\"Enter Book Title: \")\n",
    "                author = input(\"Enter Book Author: \")\n",
    "                loan = Loan(member_id, title, author)\n",
    "                loan.return_book()\n",
    "                loan.recommend_books(member_id)\n",
    "            elif choose_option == 8:\n",
    "                Loan().view_loans()\n",
    "            elif choose_option == 9:\n",
    "                member_id = input(\"Enter Member ID: \")\n",
    "                loan.view_fines(member_id)\n",
    "            elif choose_option == 10:\n",
    "                try:\n",
    "                    with open(\"log.txt\", \"r\") as logfile:\n",
    "                        print(\"\\n Activity Log:\")\n",
    "                        lines = logfile.readlines()\n",
    "                        if not lines:\n",
    "                            print(\"No log entries found.\")\n",
    "                        else:\n",
    "                            for line in lines:\n",
    "                                print(line.strip())\n",
    "                except FileNotFoundError:\n",
    "                    print(\"No log file found yet. No activity has been logged.\")\n",
    "            elif choose_option == 11:\n",
    "                print(\"Thank you for your time, till next time!\")\n",
    "                break\n",
    "            else:\n",
    "                print(\"Please enter a valid answer.\")\n",
    "        except Exception as err:\n",
    "            print(\"Oops! Something went wrong. The following error occured:\", err)\n",
    "    "
   ]
  },
  {
   "cell_type": "code",
   "execution_count": null,
   "id": "17cd76f5-1cdd-4223-8da9-ebc21c07ba40",
   "metadata": {},
   "outputs": [],
   "source": []
  },
  {
   "cell_type": "code",
   "execution_count": null,
   "id": "44b56138",
   "metadata": {},
   "outputs": [],
   "source": []
  }
 ],
 "metadata": {
  "kernelspec": {
   "display_name": "Python 3 (ipykernel)",
   "language": "python",
   "name": "python3"
  },
  "language_info": {
   "codemirror_mode": {
    "name": "ipython",
    "version": 3
   },
   "file_extension": ".py",
   "mimetype": "text/x-python",
   "name": "python",
   "nbconvert_exporter": "python",
   "pygments_lexer": "ipython3",
   "version": "3.9.16"
  }
 },
 "nbformat": 4,
 "nbformat_minor": 5
}
