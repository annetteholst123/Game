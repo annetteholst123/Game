{
 "cells": [
  {
   "cell_type": "code",
   "execution_count": null,
   "id": "b8f4e707-9d0c-448c-a93a-b0fb3f5f6ed6",
   "metadata": {},
   "outputs": [],
   "source": [
    "from Library import Book, Member"
   ]
  },
  {
   "cell_type": "code",
   "execution_count": null,
   "id": "286cd484-1631-41cb-8b74-275ae855fb77",
   "metadata": {},
   "outputs": [],
   "source": [
    "if __name__ == \"__main__\":\n",
    "    while (True):\n",
    "        try:\n",
    "            print(\"-------------------------------------------------\")\n",
    "            print(\"Welcome to the Library Management System!\")\n",
    "            print(\"-------------------------------------------------\")\n",
    "            choose_option = int(input(\"Please choose an option: \\n1. Add Book \\n2. View Total Books In Library \\n3. View Book \\n4. Add Member \\n5. View Members \\n6. Borrow Book \\n7. Return Book \\n8. Exit\"))\n",
    "            if choose_option == 1:\n",
    "                book = Book()\n",
    "                Book.Add_Book(book)\n",
    "            elif choose_option == 2:\n",
    "                Book.Total_Books()\n",
    "            elif choose_option == 3:\n",
    "                book = Book()\n",
    "                Book.Number_Copies(book)\n",
    "            elif choose_option == 4:\n",
    "                member = Member()\n",
    "                Member.Add_Member(member)\n",
    "            elif choose_option == 5:\n",
    "                Member.View_Members()\n",
    "            elif choose_option == 6:\n",
    "                print(\"Hello\")\n",
    "            elif choose_option == 7:\n",
    "                print(\"Hello\")\n",
    "            elif choose_option == 8:\n",
    "                print(\"Thank you for your time, till next time!\")\n",
    "                break\n",
    "            else:\n",
    "                print(\"Please enter a valid answer.\")\n",
    "        except Exception as err:\n",
    "            print(\"Oops! Something went wrong. The following error occured:\", err)\n",
    "    "
   ]
  }
 ],
 "metadata": {
  "kernelspec": {
   "display_name": "Python (myenv)",
   "language": "python",
   "name": "myenv"
  },
  "language_info": {
   "codemirror_mode": {
    "name": "ipython",
    "version": 3
   },
   "file_extension": ".py",
   "mimetype": "text/x-python",
   "name": "python",
   "nbconvert_exporter": "python",
   "pygments_lexer": "ipython3",
   "version": "3.13.2"
  }
 },
 "nbformat": 4,
 "nbformat_minor": 5
}
