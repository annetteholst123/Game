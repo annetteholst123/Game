{
 "cells": [
  {
   "cell_type": "markdown",
   "id": "75e75b88-71fd-4445-82de-db9ceecf56b4",
   "metadata": {},
   "source": [
    "## Practical assignment 3: Bankruptcy in the Netherlands\n",
    "\n",
    "## Course: Programming with data (INFOB2PWD)\n",
    "\n",
    "### Students: Annette Holst, Georg Vasiliv, Robin Papenhuijzen and Rina van Woerden\n",
    "\n",
    "This data set contains information on the number of bankruptcy orders issued by Dutch Courts. The data is categorized based on the type of bankruptcy. It can be natural persons with or without sole proprietorship, enterprises, institutions and geographical regions.\n",
    "The time span of this dataset is from January 2009 till February 2025. The latest figures are subject to revision and the last two months are provisional.\n"
   ]
  },
  {
   "cell_type": "code",
   "execution_count": 1,
   "id": "f5a888b0-19d2-4779-b88a-f4f9f6388195",
   "metadata": {},
   "outputs": [],
   "source": [
    "# Importing libraries\n",
    "import pandas as pd\n"
   ]
  },
  {
   "cell_type": "code",
   "execution_count": 2,
   "id": "ebde488b-c37b-41b3-aa61-37860ed56d07",
   "metadata": {},
   "outputs": [
    {
     "data": {
      "text/html": [
       "<div>\n",
       "<style scoped>\n",
       "    .dataframe tbody tr th:only-of-type {\n",
       "        vertical-align: middle;\n",
       "    }\n",
       "\n",
       "    .dataframe tbody tr th {\n",
       "        vertical-align: top;\n",
       "    }\n",
       "\n",
       "    .dataframe thead th {\n",
       "        text-align: right;\n",
       "    }\n",
       "</style>\n",
       "<table border=\"1\" class=\"dataframe\">\n",
       "  <thead>\n",
       "    <tr style=\"text-align: right;\">\n",
       "      <th></th>\n",
       "      <th>ID</th>\n",
       "      <th>TypeOfBankruptcy</th>\n",
       "      <th>Regions</th>\n",
       "      <th>Periods</th>\n",
       "      <th>PronouncedBankruptcies_1</th>\n",
       "    </tr>\n",
       "  </thead>\n",
       "  <tbody>\n",
       "    <tr>\n",
       "      <th>0</th>\n",
       "      <td>0</td>\n",
       "      <td>A047596</td>\n",
       "      <td>NL00</td>\n",
       "      <td>2009MM01</td>\n",
       "      <td>563</td>\n",
       "    </tr>\n",
       "    <tr>\n",
       "      <th>1</th>\n",
       "      <td>1</td>\n",
       "      <td>A047596</td>\n",
       "      <td>NL00</td>\n",
       "      <td>2009MM02</td>\n",
       "      <td>601</td>\n",
       "    </tr>\n",
       "    <tr>\n",
       "      <th>2</th>\n",
       "      <td>2</td>\n",
       "      <td>A047596</td>\n",
       "      <td>NL00</td>\n",
       "      <td>2009MM03</td>\n",
       "      <td>768</td>\n",
       "    </tr>\n",
       "    <tr>\n",
       "      <th>3</th>\n",
       "      <td>3</td>\n",
       "      <td>A047596</td>\n",
       "      <td>NL00</td>\n",
       "      <td>2009KW01</td>\n",
       "      <td>1932</td>\n",
       "    </tr>\n",
       "    <tr>\n",
       "      <th>4</th>\n",
       "      <td>4</td>\n",
       "      <td>A047596</td>\n",
       "      <td>NL00</td>\n",
       "      <td>2009MM04</td>\n",
       "      <td>717</td>\n",
       "    </tr>\n",
       "  </tbody>\n",
       "</table>\n",
       "</div>"
      ],
      "text/plain": [
       "   ID TypeOfBankruptcy Regions   Periods  PronouncedBankruptcies_1\n",
       "0   0          A047596  NL00    2009MM01                       563\n",
       "1   1          A047596  NL00    2009MM02                       601\n",
       "2   2          A047596  NL00    2009MM03                       768\n",
       "3   3          A047596  NL00    2009KW01                      1932\n",
       "4   4          A047596  NL00    2009MM04                       717"
      ]
     },
     "execution_count": 2,
     "metadata": {},
     "output_type": "execute_result"
    }
   ],
   "source": [
    "# Transforming the csv-file to a data frame\n",
    "df = pd.read_csv(\"82522ENG_UntypedDataSet_20032025_155613.csv\", sep = \";\")\n",
    "# Overview of the data set\n",
    "df.head()"
   ]
  },
  {
   "cell_type": "code",
   "execution_count": 3,
   "id": "26b4f36e-e69a-423c-ae39-ccfa75d8cf16",
   "metadata": {},
   "outputs": [
    {
     "name": "stdout",
     "output_type": "stream",
     "text": [
      "<class 'pandas.core.frame.DataFrame'>\n",
      "RangeIndex: 49320 entries, 0 to 49319\n",
      "Data columns (total 5 columns):\n",
      " #   Column                    Non-Null Count  Dtype \n",
      "---  ------                    --------------  ----- \n",
      " 0   ID                        49320 non-null  int64 \n",
      " 1   TypeOfBankruptcy          49320 non-null  object\n",
      " 2   Regions                   49320 non-null  object\n",
      " 3   Periods                   49320 non-null  object\n",
      " 4   PronouncedBankruptcies_1  49320 non-null  int64 \n",
      "dtypes: int64(2), object(3)\n",
      "memory usage: 1.9+ MB\n",
      "None\n"
     ]
    }
   ],
   "source": [
    "# Shows the size of the data set and the data types\n",
    "print(df.info())"
   ]
  },
  {
   "cell_type": "code",
   "execution_count": 4,
   "id": "8e138eea-8916-4692-984d-89b98ebba440",
   "metadata": {},
   "outputs": [
    {
     "name": "stdout",
     "output_type": "stream",
     "text": [
      "                 ID  PronouncedBankruptcies_1\n",
      "count  49320.000000              49320.000000\n",
      "mean   24659.500000                 51.365977\n",
      "std    14237.601975                246.609041\n",
      "min        0.000000                  0.000000\n",
      "25%    12329.750000                  2.000000\n",
      "50%    24659.500000                  8.000000\n",
      "75%    36989.250000                 27.000000\n",
      "max    49319.000000               9431.000000\n"
     ]
    }
   ],
   "source": [
    "# Statistics of the data set\n",
    "print(df.describe())"
   ]
  },
  {
   "cell_type": "code",
   "execution_count": 5,
   "id": "81f3465b-39f9-4e4c-bc1d-f0eb178bbfaa",
   "metadata": {},
   "outputs": [
    {
     "name": "stdout",
     "output_type": "stream",
     "text": [
      "TypeOfBankruptcy\n",
      "A028820    16440\n",
      "A047596    16440\n",
      "A047597    16440\n",
      "Name: count, dtype: int64\n"
     ]
    }
   ],
   "source": [
    "# Source: https://pandas.pydata.org/docs/reference/api/pandas.DataFrame.value_counts.html\n",
    "# Count unique values of tye of bankruptcy\n",
    "type_bankruptcy = df.value_counts('TypeOfBankruptcy')\n",
    "print(type_bankruptcy)\n",
    "\n",
    "# Count unique values of regions (output not shown here, because there are many reasons)\n",
    "# regions = df.value_counts('Regions')\n",
    "# print(regions)"
   ]
  },
  {
   "cell_type": "markdown",
   "id": "31b326b5-74d2-4105-8637-ed72a70ac708",
   "metadata": {},
   "source": [
    "As shown, there are three types of bankruptcies: A028820, A047596 and A047597    \n",
    "As seen in meta-data, the codes mean the following:\n",
    "* *A028820*: Nat. person with sole proprietorship\n",
    "    * A legal form without legal personality, where one natural person owns the business. The owner is entirely liable for all business and capital matters. There is no distinction between business assets and personal assets.\n",
    "* *A047596* stands for Total entities with/without legal pers.\n",
    "    * Total entities with and without legal personality and sole proprietors\n",
    "* *A047597* stands for Companies and institutions\n",
    "    * Partnerships without legal personality and legal entities\n",
    " \n",
    "To make the data set more clear, we will rename these codes to:\n",
    "* A028820: only_sole_prop\n",
    "* A047596: total\n",
    "* A047597: without_sole_prop"
   ]
  },
  {
   "cell_type": "code",
   "execution_count": 6,
   "id": "6ec43892-faba-4c91-a24d-c9ec439f1d0c",
   "metadata": {},
   "outputs": [
    {
     "name": "stdout",
     "output_type": "stream",
     "text": [
      "TypeOfBankruptcy\n",
      "only_sole_prop       16440\n",
      "total                16440\n",
      "without_sole_prop    16440\n",
      "Name: count, dtype: int64\n"
     ]
    }
   ],
   "source": [
    "# Source: https://pandas.pydata.org/docs/reference/api/pandas.DataFrame.replace.html\n",
    "# Renaming types of bankruptcies\n",
    "df = df.replace('A028820','only_sole_prop')\n",
    "df = df.replace('A047596','total')\n",
    "df = df.replace('A047597','without_sole_prop') \n",
    "\n",
    "# Check if succeeded\n",
    "type_bankruptcy = df.value_counts('TypeOfBankruptcy')\n",
    "print(type_bankruptcy)"
   ]
  },
  {
   "cell_type": "code",
   "execution_count": 13,
   "id": "85827624-81a9-4d99-ab08-5f24106be9e0",
   "metadata": {},
   "outputs": [],
   "source": [
    "i = 20\n",
    "t = 0\n",
    "# List of provinces\n",
    "list = ['Groningen', 'Fryslan', 'Drenthe', 'Overijssel', 'Flevoland', 'Gelderland', 'Utrecht', 'Noord-Holland', 'Zuid-Holland', 'Zeeland', 'Noord-Brabant', 'Limburg']\n",
    "# For-loop to replace provinces indexes with names\n",
    "for i in range(20,32):\n",
    "    df = df.replace(f'PV{i}  ',f'{list[t]}')\n",
    "    t = t + 1\n",
    "\n",
    "# Check if it worked\n",
    "# regions = df.value_counts('Regions')\n",
    "# print(regions)"
   ]
  },
  {
   "cell_type": "code",
   "execution_count": 8,
   "id": "ce79a745-05e4-48a2-b32b-c5b971b558c8",
   "metadata": {},
   "outputs": [],
   "source": [
    "# Missing values => meta-data?"
   ]
  },
  {
   "cell_type": "markdown",
   "id": "4b4327ae-03af-4e44-9977-49123ba947b2",
   "metadata": {},
   "source": [
    "Research 1:"
   ]
  },
  {
   "cell_type": "markdown",
   "id": "be435b9b-39cc-49af-903e-22484a565307",
   "metadata": {},
   "source": [
    "Research 2:"
   ]
  },
  {
   "cell_type": "markdown",
   "id": "79b117fa-5522-46c0-b7bb-f1a02d1839ae",
   "metadata": {},
   "source": [
    "Research 3:"
   ]
  },
  {
   "cell_type": "markdown",
   "id": "3f60b1ae-8895-4349-9e82-5d82ebd67861",
   "metadata": {},
   "source": [
    "Research 4:"
   ]
  },
  {
   "cell_type": "markdown",
   "id": "86d017f7-d2e1-47d8-9aa8-5ba734534147",
   "metadata": {},
   "source": [
    "How do bankruptcy trend differ across different types (proprietorship, enterprises, institutions)\n",
    "Covid => meer impact op eenmanszaken? (inclusief en exclusief vergelijken)\n",
    "Vóór, na en tijdens corona\n",
    "Method: Bar charts, that shows the number of bankruptcies for each type (natural persons, enterprises, institutions). \n"
   ]
  },
  {
   "cell_type": "code",
   "execution_count": null,
   "id": "34f4d152-1da9-46b1-b3a0-17ab7f608f2a",
   "metadata": {},
   "outputs": [],
   "source": []
  }
 ],
 "metadata": {
  "kernelspec": {
   "display_name": "Python [conda env:myenv] *",
   "language": "python",
   "name": "conda-env-myenv-py"
  },
  "language_info": {
   "codemirror_mode": {
    "name": "ipython",
    "version": 3
   },
   "file_extension": ".py",
   "mimetype": "text/x-python",
   "name": "python",
   "nbconvert_exporter": "python",
   "pygments_lexer": "ipython3",
   "version": "3.9.21"
  }
 },
 "nbformat": 4,
 "nbformat_minor": 5
}
