{
 "cells": [
  {
   "cell_type": "markdown",
   "id": "75e75b88-71fd-4445-82de-db9ceecf56b4",
   "metadata": {},
   "source": [
    "## Practical assignment 3: Bankruptcy in the Netherlands\n",
    "\n",
    "## Course: Programming with data (INFOB2PWD)\n",
    "\n",
    "### Students: Annette Holst, Georg Vasiliv, Robin Papenhuijzen and Rina van Woerden\n",
    "\n",
    "This data set contains information on the number of bankruptcy orders issued by Dutch Courts. The data is categorized based on the type of bankruptcy. It can be natural persons with or without sole proprietorship, enterprises, institutions and geographical regions.\n",
    "The time span of this dataset is from January 2009 till February 2025. The latest figures are subject to revision and the last two months are provisional.\n"
   ]
  },
  {
   "cell_type": "code",
   "execution_count": 1,
   "id": "f5a888b0-19d2-4779-b88a-f4f9f6388195",
   "metadata": {},
   "outputs": [],
   "source": [
    "# Importing libraries\n",
    "import pandas as pd\n"
   ]
  },
  {
   "cell_type": "code",
   "execution_count": 2,
   "id": "ebde488b-c37b-41b3-aa61-37860ed56d07",
   "metadata": {},
   "outputs": [
    {
     "data": {
      "text/html": [
       "<div>\n",
       "<style scoped>\n",
       "    .dataframe tbody tr th:only-of-type {\n",
       "        vertical-align: middle;\n",
       "    }\n",
       "\n",
       "    .dataframe tbody tr th {\n",
       "        vertical-align: top;\n",
       "    }\n",
       "\n",
       "    .dataframe thead th {\n",
       "        text-align: right;\n",
       "    }\n",
       "</style>\n",
       "<table border=\"1\" class=\"dataframe\">\n",
       "  <thead>\n",
       "    <tr style=\"text-align: right;\">\n",
       "      <th></th>\n",
       "      <th>ID</th>\n",
       "      <th>TypeOfBankruptcy</th>\n",
       "      <th>Regions</th>\n",
       "      <th>Periods</th>\n",
       "      <th>PronouncedBankruptcies_1</th>\n",
       "    </tr>\n",
       "  </thead>\n",
       "  <tbody>\n",
       "    <tr>\n",
       "      <th>0</th>\n",
       "      <td>0</td>\n",
       "      <td>A047596</td>\n",
       "      <td>NL00</td>\n",
       "      <td>2009MM01</td>\n",
       "      <td>563</td>\n",
       "    </tr>\n",
       "    <tr>\n",
       "      <th>1</th>\n",
       "      <td>1</td>\n",
       "      <td>A047596</td>\n",
       "      <td>NL00</td>\n",
       "      <td>2009MM02</td>\n",
       "      <td>601</td>\n",
       "    </tr>\n",
       "    <tr>\n",
       "      <th>2</th>\n",
       "      <td>2</td>\n",
       "      <td>A047596</td>\n",
       "      <td>NL00</td>\n",
       "      <td>2009MM03</td>\n",
       "      <td>768</td>\n",
       "    </tr>\n",
       "    <tr>\n",
       "      <th>3</th>\n",
       "      <td>3</td>\n",
       "      <td>A047596</td>\n",
       "      <td>NL00</td>\n",
       "      <td>2009KW01</td>\n",
       "      <td>1932</td>\n",
       "    </tr>\n",
       "    <tr>\n",
       "      <th>4</th>\n",
       "      <td>4</td>\n",
       "      <td>A047596</td>\n",
       "      <td>NL00</td>\n",
       "      <td>2009MM04</td>\n",
       "      <td>717</td>\n",
       "    </tr>\n",
       "  </tbody>\n",
       "</table>\n",
       "</div>"
      ],
      "text/plain": [
       "   ID TypeOfBankruptcy Regions   Periods  PronouncedBankruptcies_1\n",
       "0   0          A047596  NL00    2009MM01                       563\n",
       "1   1          A047596  NL00    2009MM02                       601\n",
       "2   2          A047596  NL00    2009MM03                       768\n",
       "3   3          A047596  NL00    2009KW01                      1932\n",
       "4   4          A047596  NL00    2009MM04                       717"
      ]
     },
     "execution_count": 2,
     "metadata": {},
     "output_type": "execute_result"
    }
   ],
   "source": [
    "# Transforming the csv-file to a data frame\n",
    "df = pd.read_csv(\"82522ENG_UntypedDataSet_20032025_155613.csv\", sep = \";\")\n",
    "# Overview of the data set\n",
    "df.head()"
   ]
  },
  {
   "cell_type": "code",
   "execution_count": 3,
   "id": "26b4f36e-e69a-423c-ae39-ccfa75d8cf16",
   "metadata": {},
   "outputs": [
    {
     "name": "stdout",
     "output_type": "stream",
     "text": [
      "<class 'pandas.core.frame.DataFrame'>\n",
      "RangeIndex: 49320 entries, 0 to 49319\n",
      "Data columns (total 5 columns):\n",
      " #   Column                    Non-Null Count  Dtype \n",
      "---  ------                    --------------  ----- \n",
      " 0   ID                        49320 non-null  int64 \n",
      " 1   TypeOfBankruptcy          49320 non-null  object\n",
      " 2   Regions                   49320 non-null  object\n",
      " 3   Periods                   49320 non-null  object\n",
      " 4   PronouncedBankruptcies_1  49320 non-null  int64 \n",
      "dtypes: int64(2), object(3)\n",
      "memory usage: 1.9+ MB\n",
      "None\n"
     ]
    }
   ],
   "source": [
    "# Shows the size of the data set and the data types\n",
    "print(df.info())"
   ]
  },
  {
   "cell_type": "code",
   "execution_count": 4,
   "id": "8e138eea-8916-4692-984d-89b98ebba440",
   "metadata": {},
   "outputs": [
    {
     "name": "stdout",
     "output_type": "stream",
     "text": [
      "                 ID  PronouncedBankruptcies_1\n",
      "count  49320.000000              49320.000000\n",
      "mean   24659.500000                 51.365977\n",
      "std    14237.601975                246.609041\n",
      "min        0.000000                  0.000000\n",
      "25%    12329.750000                  2.000000\n",
      "50%    24659.500000                  8.000000\n",
      "75%    36989.250000                 27.000000\n",
      "max    49319.000000               9431.000000\n"
     ]
    }
   ],
   "source": [
    "# Statistics of the data set\n",
    "print(df.describe())"
   ]
  },
  {
   "cell_type": "code",
   "execution_count": 5,
   "id": "ce79a745-05e4-48a2-b32b-c5b971b558c8",
   "metadata": {},
   "outputs": [
    {
     "data": {
      "text/plain": [
       "49320"
      ]
     },
     "execution_count": 5,
     "metadata": {},
     "output_type": "execute_result"
    }
   ],
   "source": [
    "# Filling missing values with NaN\n",
    "#df.fillna(\"NaN\")\n",
    "# Check how many missing variables there are\n",
    "#missing_values = df.isnull()"
   ]
  },
  {
   "cell_type": "code",
   "execution_count": null,
   "id": "161b3552-6d13-4f12-b81b-0211378a4a08",
   "metadata": {},
   "outputs": [],
   "source": []
  }
 ],
 "metadata": {
  "kernelspec": {
   "display_name": "Python [conda env:myenv] *",
   "language": "python",
   "name": "conda-env-myenv-py"
  },
  "language_info": {
   "codemirror_mode": {
    "name": "ipython",
    "version": 3
   },
   "file_extension": ".py",
   "mimetype": "text/x-python",
   "name": "python",
   "nbconvert_exporter": "python",
   "pygments_lexer": "ipython3",
   "version": "3.9.21"
  }
 },
 "nbformat": 4,
 "nbformat_minor": 5
}
