{
 "cells": [
  {
   "cell_type": "markdown",
   "id": "75e75b88-71fd-4445-82de-db9ceecf56b4",
   "metadata": {},
   "source": [
    "# Bankruptcy in the Netherlands\n",
    "\n",
    "## Course: Programming with data (INFOB2PWD)\n",
    "\n",
    "### Students: Annette Holst, Georg Vasiliv, Robin Papenhuijzen and Rina van Woerden\n",
    "\n",
    "This data set contains information on the number of bankruptcy orders issued by Dutch Courts. The data is categorized based on the type of bankruptcy. It can be natural persons with or without sole proprietorship, enterprises, institutions and geographical regions.\n",
    "The time span of this dataset is from January 2009 till February 2025. The latest figures are subject to revision and the last two months are provisional.\n",
    "\n",
    "The time span of this dataset is from January 2009 till February 2025. The latest figures are subject to revision and the last two months are provisional.\n",
    "\n",
    "First, an overview of the data set will be given and the data set will be prepared for the analysis. Then the following research' questions will be explored:\n",
    "* How have bankruptcy rates changed over time?\n",
    "  * Using method: XXX\n",
    "* How do bankruptcy trends differ across different geographical regions?\n",
    "  * Using method: XXX\n",
    "* How do bankruptcy trends differ between the Randstad and the suburbs?\n",
    "  * Using method: XXX\n",
    "* How did bankruptcy trends differ for businesses with and without sole proprietorships before and after COVID-19?\n",
    "  * Using method: XXX\n"
   ]
  },
  {
   "cell_type": "markdown",
   "id": "013177b5-5000-4545-baed-ecbc500c04c0",
   "metadata": {},
   "source": [
    "### NOG DOEN !!! : Longer pieces of code, especially when not directly meaningful for the narrative (for example details of the data pre-processing when loading the data from the CSV files), are stored in separate .py modules and imported to the notebook"
   ]
  },
  {
   "cell_type": "code",
   "execution_count": 1,
   "id": "f5a888b0-19d2-4779-b88a-f4f9f6388195",
   "metadata": {},
   "outputs": [],
   "source": [
    "# Importing libraries\n",
    "import pandas as pd\n",
    "import matplotlib.pyplot as plt\n",
    "\n"
   ]
  },
  {
   "cell_type": "code",
   "execution_count": 2,
   "id": "ebde488b-c37b-41b3-aa61-37860ed56d07",
   "metadata": {},
   "outputs": [
    {
     "data": {
      "text/html": [
       "<div>\n",
       "<style scoped>\n",
       "    .dataframe tbody tr th:only-of-type {\n",
       "        vertical-align: middle;\n",
       "    }\n",
       "\n",
       "    .dataframe tbody tr th {\n",
       "        vertical-align: top;\n",
       "    }\n",
       "\n",
       "    .dataframe thead th {\n",
       "        text-align: right;\n",
       "    }\n",
       "</style>\n",
       "<table border=\"1\" class=\"dataframe\">\n",
       "  <thead>\n",
       "    <tr style=\"text-align: right;\">\n",
       "      <th></th>\n",
       "      <th>ID</th>\n",
       "      <th>TypeOfBankruptcy</th>\n",
       "      <th>Regions</th>\n",
       "      <th>Periods</th>\n",
       "      <th>PronouncedBankruptcies_1</th>\n",
       "    </tr>\n",
       "  </thead>\n",
       "  <tbody>\n",
       "    <tr>\n",
       "      <th>0</th>\n",
       "      <td>0</td>\n",
       "      <td>A047596</td>\n",
       "      <td>NL00</td>\n",
       "      <td>2009MM01</td>\n",
       "      <td>563</td>\n",
       "    </tr>\n",
       "    <tr>\n",
       "      <th>1</th>\n",
       "      <td>1</td>\n",
       "      <td>A047596</td>\n",
       "      <td>NL00</td>\n",
       "      <td>2009MM02</td>\n",
       "      <td>601</td>\n",
       "    </tr>\n",
       "    <tr>\n",
       "      <th>2</th>\n",
       "      <td>2</td>\n",
       "      <td>A047596</td>\n",
       "      <td>NL00</td>\n",
       "      <td>2009MM03</td>\n",
       "      <td>768</td>\n",
       "    </tr>\n",
       "    <tr>\n",
       "      <th>3</th>\n",
       "      <td>3</td>\n",
       "      <td>A047596</td>\n",
       "      <td>NL00</td>\n",
       "      <td>2009KW01</td>\n",
       "      <td>1932</td>\n",
       "    </tr>\n",
       "    <tr>\n",
       "      <th>4</th>\n",
       "      <td>4</td>\n",
       "      <td>A047596</td>\n",
       "      <td>NL00</td>\n",
       "      <td>2009MM04</td>\n",
       "      <td>717</td>\n",
       "    </tr>\n",
       "  </tbody>\n",
       "</table>\n",
       "</div>"
      ],
      "text/plain": [
       "   ID TypeOfBankruptcy Regions   Periods  PronouncedBankruptcies_1\n",
       "0   0          A047596  NL00    2009MM01                       563\n",
       "1   1          A047596  NL00    2009MM02                       601\n",
       "2   2          A047596  NL00    2009MM03                       768\n",
       "3   3          A047596  NL00    2009KW01                      1932\n",
       "4   4          A047596  NL00    2009MM04                       717"
      ]
     },
     "execution_count": 2,
     "metadata": {},
     "output_type": "execute_result"
    }
   ],
   "source": [
    "# Transforming the csv-file to a data frame\n",
    "df = pd.read_csv(\"82522ENG_UntypedDataSet_20032025_155613.csv\", sep = \";\")\n",
    "# Overview of the data set\n",
    "df.head()"
   ]
  },
  {
   "cell_type": "code",
   "execution_count": 3,
   "id": "26b4f36e-e69a-423c-ae39-ccfa75d8cf16",
   "metadata": {},
   "outputs": [
    {
     "name": "stdout",
     "output_type": "stream",
     "text": [
      "<class 'pandas.core.frame.DataFrame'>\n",
      "RangeIndex: 49320 entries, 0 to 49319\n",
      "Data columns (total 5 columns):\n",
      " #   Column                    Non-Null Count  Dtype \n",
      "---  ------                    --------------  ----- \n",
      " 0   ID                        49320 non-null  int64 \n",
      " 1   TypeOfBankruptcy          49320 non-null  object\n",
      " 2   Regions                   49320 non-null  object\n",
      " 3   Periods                   49320 non-null  object\n",
      " 4   PronouncedBankruptcies_1  49320 non-null  int64 \n",
      "dtypes: int64(2), object(3)\n",
      "memory usage: 1.9+ MB\n",
      "None\n"
     ]
    }
   ],
   "source": [
    "# Shows the size of the data set and the data types\n",
    "print(df.info())"
   ]
  },
  {
   "cell_type": "code",
   "execution_count": 4,
   "id": "8e138eea-8916-4692-984d-89b98ebba440",
   "metadata": {},
   "outputs": [
    {
     "name": "stdout",
     "output_type": "stream",
     "text": [
      "                 ID  PronouncedBankruptcies_1\n",
      "count  49320.000000              49320.000000\n",
      "mean   24659.500000                 51.365977\n",
      "std    14237.601975                246.609041\n",
      "min        0.000000                  0.000000\n",
      "25%    12329.750000                  2.000000\n",
      "50%    24659.500000                  8.000000\n",
      "75%    36989.250000                 27.000000\n",
      "max    49319.000000               9431.000000\n"
     ]
    }
   ],
   "source": [
    "# Statistics of the data set\n",
    "print(df.describe())"
   ]
  },
  {
   "cell_type": "code",
   "execution_count": 5,
   "id": "81f3465b-39f9-4e4c-bc1d-f0eb178bbfaa",
   "metadata": {},
   "outputs": [
    {
     "name": "stdout",
     "output_type": "stream",
     "text": [
      "TypeOfBankruptcy\n",
      "A028820    16440\n",
      "A047596    16440\n",
      "A047597    16440\n",
      "Name: count, dtype: int64\n"
     ]
    }
   ],
   "source": [
    "# Count unique values of tye of bankruptcy\n",
    "type_bankruptcy = df.value_counts('TypeOfBankruptcy')\n",
    "print(type_bankruptcy)\n",
    "\n",
    "# Count unique values of regions (output not shown here, because there are many reasons)\n",
    "# regions = df.value_counts('Regions')\n",
    "# print(regions)"
   ]
  },
  {
   "cell_type": "markdown",
   "id": "31b326b5-74d2-4105-8637-ed72a70ac708",
   "metadata": {},
   "source": [
    "As shown, there are three types of bankruptcies: A028820, A047596 and A047597    \n",
    "Each type of bankruptcy has 16.440 rows.\n",
    "\n",
    "As deriven from the meta-data, the codes mean the following:\n",
    "* *A028820*: Nat. person with sole proprietorship\n",
    "    * A legal form without legal personality, where one natural person owns the business. The owner is entirely liable for all business and capital matters. There is no distinction between business assets and personal assets.\n",
    "* *A047596* stands for Total entities with/without legal pers.\n",
    "    * Total entities with and without legal personality and sole proprietors\n",
    "* *A047597* stands for Companies and institutions\n",
    "    * Partnerships without legal personality and legal entities\n",
    " \n",
    "To make the data set more clear, we will rename these codes to:\n",
    "* A028820: only_sole_prop\n",
    "* A047596: total\n",
    "* A047597: without_sole_prop"
   ]
  },
  {
   "cell_type": "code",
   "execution_count": 30,
   "id": "6ec43892-faba-4c91-a24d-c9ec439f1d0c",
   "metadata": {},
   "outputs": [
    {
     "name": "stdout",
     "output_type": "stream",
     "text": [
      "TypeOfBankruptcy\n",
      "only_sole_prop       16440\n",
      "total                16440\n",
      "without_sole_prop    16440\n",
      "Name: count, dtype: int64\n"
     ]
    }
   ],
   "source": [
    "# Renaming types of bankruptcies\n",
    "df = df.replace('A028820','only_sole_prop')\n",
    "df = df.replace('A047596','total')\n",
    "df = df.replace('A047597','without_sole_prop') \n",
    "\n",
    "# Check if succeeded\n",
    "type_bankruptcy = df.value_counts('TypeOfBankruptcy')\n",
    "print(type_bankruptcy)"
   ]
  },
  {
   "cell_type": "code",
   "execution_count": 31,
   "id": "85827624-81a9-4d99-ab08-5f24106be9e0",
   "metadata": {},
   "outputs": [],
   "source": [
    "i = 20\n",
    "t = 0\n",
    "# List of provinces\n",
    "list = ['Groningen', 'Fryslan', 'Drenthe', 'Overijssel', 'Flevoland', 'Gelderland', 'Utrecht', 'Noord-Holland', 'Zuid-Holland', 'Zeeland', 'Noord-Brabant', 'Limburg']\n",
    "# For-loop to replace provinces indexes with names\n",
    "for i in range(20,32):\n",
    "    df = df.replace(f'PV{i}  ',f'{list[t]}')\n",
    "    t = t + 1\n",
    "\n",
    "# Check if it worked\n",
    "# regions = df.value_counts('Regions')\n",
    "# print(regions)"
   ]
  },
  {
   "cell_type": "code",
   "execution_count": 32,
   "id": "ce79a745-05e4-48a2-b32b-c5b971b558c8",
   "metadata": {},
   "outputs": [],
   "source": [
    "# Missing values => meta-data?"
   ]
  },
  {
   "cell_type": "markdown",
   "id": "4b4327ae-03af-4e44-9977-49123ba947b2",
   "metadata": {},
   "source": [
    "Research 1:"
   ]
  },
  {
   "cell_type": "code",
   "execution_count": null,
   "id": "d8aecf97-7cbb-4ce5-91c8-edd42ac2f518",
   "metadata": {},
   "outputs": [],
   "source": []
  },
  {
   "cell_type": "markdown",
   "id": "be435b9b-39cc-49af-903e-22484a565307",
   "metadata": {},
   "source": [
    "Research 2:"
   ]
  },
  {
   "cell_type": "markdown",
   "id": "79b117fa-5522-46c0-b7bb-f1a02d1839ae",
   "metadata": {},
   "source": [
    "Research 3:"
   ]
  },
  {
   "cell_type": "markdown",
   "id": "3f60b1ae-8895-4349-9e82-5d82ebd67861",
   "metadata": {},
   "source": [
    "Research 4:"
   ]
  },
  {
   "cell_type": "markdown",
   "id": "86d017f7-d2e1-47d8-9aa8-5ba734534147",
   "metadata": {},
   "source": [
    "Last week a news article in the Netherlands was published about the economical impact of COVID on the Netherlands (Schallenberg, 2025). The expectation at the beginning of COVID-19 was that businesses with little to no revenue would go bankrupt, but in reality fewer and fewer businesses went bankrupt. According to the article it was only in 2024 that bankruptcies exceeded pre-COVID levels. It would be interesting to see if bankruptcy trends differ accros different types of proprietorship: companies only with and without sole proprietorship. This leads to the following research' question: How did bankruptcy trends differ for businesses with and without sole proprietorships before and after COVID-19?\n",
    "\n",
    "\n",
    "\n"
   ]
  },
  {
   "cell_type": "code",
   "execution_count": 48,
   "id": "42d9fd7f-73de-4c86-941a-bc273829cabb",
   "metadata": {},
   "outputs": [
    {
     "data": {
      "image/png": "[encoded data removed]",
      "text/plain": [
       "<Figure size 640x480 with 1 Axes>"
      ]
     },
     "metadata": {},
     "output_type": "display_data"
    }
   ],
   "source": [
    "# Create a subset of the data without sole prorietory every year in the Netherlands\n",
    "df_without_sol = df[df[\"Periods\"].astype(str).str.contains(\"JJ\", na=False) & df[\"Regions\"].astype(str).str.contains(\"NL01\", na=False) & df[\"TypeOfBankruptcy\"].astype(str).str.contains(\"without_sole_prop\", na=False)]\n",
    "# Create a subset of the data with only sole prorietory every year in the Netherlands\n",
    "df_only_sol = df[df[\"Periods\"].astype(str).str.contains(\"JJ\", na=False) & df[\"Regions\"].astype(str).str.contains(\"NL01\", na=False) & df[\"TypeOfBankruptcy\"].astype(str).str.contains(\"only_sole_prop\", na=False)]\n",
    "\n",
    "# Function to replace period names with shortened names with a more readable format\n",
    "def dataframe(z):\n",
    "    i = 0 \n",
    "    year = 2009\n",
    "    count = 9\n",
    "    for i in range(0,23):\n",
    "        if count == 9:\n",
    "            z = z.replace(f\"{year}JJ00\" ,f\"'0{count}\")\n",
    "            year = year + 1\n",
    "            count = count + 1\n",
    "        else:\n",
    "            z = z.replace(f\"{year}JJ00\" ,f\"'{count}\")\n",
    "            year = year + 1\n",
    "            count = count + 1\n",
    "    return z\n",
    "\n",
    "# Applying the functions on the subsets\n",
    "df_without_sol = dataframe(df_without_sol)\n",
    "df_only_sol = dataframe(df_only_sol)\n",
    "\n",
    "# Combining the dataframes into one plot\n",
    "x = df_only_sol[\"Periods\"]\n",
    "y1 = df_without_sol[\"PronouncedBankruptcies_1\"]\n",
    "y2 = df_only_sol[\"PronouncedBankruptcies_1\"]\n",
    "plt.plot(x, y1, label='Without sole proprietorship')\n",
    "plt.plot(x, y2, label='Only sole proprietorship')\n",
    "plt.legend()\n",
    "plt.title('Annual bankruptcy rates: only with vs. without sole proprietorship')\n",
    "plt.xlabel('Year')\n",
    "plt.ylabel('Pronounced bankruptcies')\n",
    "plt.show()\n"
   ]
  },
  {
   "cell_type": "markdown",
   "id": "2197105e-1121-4a8c-9e2f-429962c39623",
   "metadata": {},
   "source": [
    "How do bankruptcy trend differ across different types (proprietorship, enterprises, institutions)\n",
    "Covid => meer impact op eenmanszaken? (inclusief en exclusief vergelijken)\n",
    "Vóór, na en tijdens corona\n",
    "Method: Bar charts, that shows the number of bankruptcies for each type (natural persons, enterprises, institutions). "
   ]
  },
  {
   "cell_type": "markdown",
   "id": "035b53d7-6fd8-4585-8ac6-f97b02c2efae",
   "metadata": {},
   "source": [
    "### Literature\n",
    "Schallenberg, L. (2025, March 16). 5 jaar na uitbreken coronacrisis: 'een economisch mirakel'. *NOS*. https://nos.nl/artikel/2559796-5-jaar-na-uitbreken-coronacrisis-een-economisch-mirakel\n",
    "\n",
    "*pandas.DataFrame.replace*. Retrieved March 21, 2025, from https://pandas.pydata.org/docs/reference/api/pandas.DataFrame.replace.html\n",
    "\n",
    "*Plot Multiple lines in Matplotlib*. (2024, Augustus 14). Retrieved March 21, 2025, from  https://www.geeksforgeeks.org/plot-multiple-lines-in-matplotlib/\n",
    "\n",
    "*pandas.DataFrame.value_counts*. Retrieved March 21, 2025, from https://pandas.pydata.org/docs/reference/api/pandas.DataFrame.value_counts.html\n",
    "\n"
   ]
  },
  {
   "cell_type": "code",
   "execution_count": null,
   "id": "2660c2c1-a49d-424d-9eec-4f01ce4b1604",
   "metadata": {},
   "outputs": [],
   "source": []
  }
 ],
 "metadata": {
  "kernelspec": {
   "display_name": "Python [conda env:myenv] *",
   "language": "python",
   "name": "conda-env-myenv-py"
  },
  "language_info": {
   "codemirror_mode": {
    "name": "ipython",
    "version": 3
   },
   "file_extension": ".py",
   "mimetype": "text/x-python",
   "name": "python",
   "nbconvert_exporter": "python",
   "pygments_lexer": "ipython3",
   "version": "3.9.21"
  }
 },
 "nbformat": 4,
 "nbformat_minor": 5
}
