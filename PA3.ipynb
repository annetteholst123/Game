{
 "cells": [
  {
   "cell_type": "markdown",
   "id": "75e75b88-71fd-4445-82de-db9ceecf56b4",
   "metadata": {},
   "source": [
    "## Practical assignment 3: Bankruptcy in the Netherlands\n",
    "\n",
    "## Course: Programming with data (INFOB2PWD)\n",
    "\n",
    "### Students: Annette Holst, Georg Vasiliv, Robin Papenhuijzen and Rina van Woerden\n",
    "\n",
    "This data set contains information on the number of bankruptcy orders issued by Dutch Courts. The data is categorized based on the type of bankruptcy. It can be natural persons with or without sole proprietorship, enterprises, institutions and geographical regions.\n",
    "The time span of this dataset is from January 2009 till February 2025. The latest figures are subject to revision and the last two months are provisional.\n"
   ]
  },
  {
   "cell_type": "code",
   "execution_count": 10,
   "id": "f5a888b0-19d2-4779-b88a-f4f9f6388195",
   "metadata": {},
   "outputs": [],
   "source": [
    "# Importing libraries\n",
    "import pandas as pd\n"
   ]
  },
  {
   "cell_type": "code",
   "execution_count": 9,
   "id": "ebde488b-c37b-41b3-aa61-37860ed56d07",
   "metadata": {},
   "outputs": [
    {
     "name": "stdout",
     "output_type": "stream",
     "text": [
      "TypeOfBankruptcy\n",
      "A028820    16440\n",
      "A047596    16440\n",
      "A047597    16440\n",
      "Name: count, dtype: int64\n"
     ]
    }
   ],
   "source": [
    "# Transforming the csv-file to a data frame\n",
    "df = pd.read_csv(\"82522ENG_UntypedDataSet_20032025_155613.csv\", sep = \";\")\n",
    "# Overview of the data set\n",
    "df.head()\n",
    "\n",
    "# Source: https://pandas.pydata.org/docs/reference/api/pandas.DataFrame.value_counts.html\n",
    "# Count unique values of tye of bankruptcy\n",
    "type_bankruptcy = df.value_counts('TypeOfBankruptcy')\n",
    "print(type_bankruptcy)\n",
    "# There are three types of bankruptcies\n",
    "\n",
    "# Count unique values of regions \n",
    "# regions = df.value_counts('Regions')\n",
    "# print(regions)\n",
    "\n",
    "\n"
   ]
  },
  {
   "cell_type": "code",
   "execution_count": 5,
   "id": "26b4f36e-e69a-423c-ae39-ccfa75d8cf16",
   "metadata": {},
   "outputs": [
    {
     "name": "stdout",
     "output_type": "stream",
     "text": [
      "<class 'pandas.core.frame.DataFrame'>\n",
      "RangeIndex: 49320 entries, 0 to 49319\n",
      "Data columns (total 5 columns):\n",
      " #   Column                    Non-Null Count  Dtype \n",
      "---  ------                    --------------  ----- \n",
      " 0   ID                        49320 non-null  int64 \n",
      " 1   TypeOfBankruptcy          49320 non-null  object\n",
      " 2   Regions                   49320 non-null  object\n",
      " 3   Periods                   49320 non-null  object\n",
      " 4   PronouncedBankruptcies_1  49320 non-null  int64 \n",
      "dtypes: int64(2), object(3)\n",
      "memory usage: 1.9+ MB\n",
      "None\n"
     ]
    }
   ],
   "source": [
    "# Shows the size of the data set and the data types\n",
    "print(df.info())"
   ]
  },
  {
   "cell_type": "code",
   "execution_count": 6,
   "id": "8e138eea-8916-4692-984d-89b98ebba440",
   "metadata": {},
   "outputs": [
    {
     "name": "stdout",
     "output_type": "stream",
     "text": [
      "                 ID  PronouncedBankruptcies_1\n",
      "count  49320.000000              49320.000000\n",
      "mean   24659.500000                 51.365977\n",
      "std    14237.601975                246.609041\n",
      "min        0.000000                  0.000000\n",
      "25%    12329.750000                  2.000000\n",
      "50%    24659.500000                  8.000000\n",
      "75%    36989.250000                 27.000000\n",
      "max    49319.000000               9431.000000\n"
     ]
    }
   ],
   "source": [
    "# Statistics of the data set\n",
    "print(df.describe())"
   ]
  },
  {
   "cell_type": "code",
   "execution_count": null,
   "id": "ce79a745-05e4-48a2-b32b-c5b971b558c8",
   "metadata": {},
   "outputs": [],
   "source": []
  },
  {
   "cell_type": "code",
   "execution_count": null,
   "id": "161b3552-6d13-4f12-b81b-0211378a4a08",
   "metadata": {},
   "outputs": [],
   "source": []
  },
  {
   "cell_type": "code",
   "execution_count": null,
   "id": "405b6cae-164c-4a3b-b136-3fb0b03a2fee",
   "metadata": {},
   "outputs": [],
   "source": []
  }
 ],
 "metadata": {
  "kernelspec": {
   "display_name": "Python [conda env:myenv] *",
   "language": "python",
   "name": "conda-env-myenv-py"
  },
  "language_info": {
   "codemirror_mode": {
    "name": "ipython",
    "version": 3
   },
   "file_extension": ".py",
   "mimetype": "text/x-python",
   "name": "python",
   "nbconvert_exporter": "python",
   "pygments_lexer": "ipython3",
   "version": "3.9.21"
  }
 },
 "nbformat": 4,
 "nbformat_minor": 5
}
